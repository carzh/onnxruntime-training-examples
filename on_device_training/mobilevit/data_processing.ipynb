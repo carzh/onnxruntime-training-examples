{
 "cells": [
  {
   "cell_type": "markdown",
   "metadata": {},
   "source": [
    "# Data processing\n",
    "The MobileViT model takes in two tensors, in the following shape:\n",
    "```\n",
    "input = {\n",
    "    \"pixel_values\": torch.FloatTensor of shape (batch_size, num_channels, height, width),\n",
    "    \"labels\": torch.LongTensor of shape (batch_size,)\n",
    "}\n",
    "```\n",
    "\n",
    "where \n",
    "* batch_size = number of images in each batch\n",
    "* num_channels = the number of color channels (i.e., RGB = 3 channels, RGBA = 4 channels)\n",
    "* height = the height of the image in pixels\n",
    "* width = the width of the image in pixels\n",
    "\n",
    "For convenience, processing a dataset of images and labels into this shape will be done in this Jupyter Notebook so that the C# app can simply read in the input in the required format. However, since this data processing only requires translating images into numbers, this step can be done in any language, and to any file format (JSON was chosen for convenience)."
   ]
  },
  {
   "cell_type": "code",
   "execution_count": null,
   "metadata": {},
   "outputs": [],
   "source": [
    "import datasets\n",
    "import torch\n",
    "from torchvision import transforms\n",
    "from PIL import Image\n",
    "import json"
   ]
  },
  {
   "cell_type": "code",
   "execution_count": null,
   "metadata": {},
   "outputs": [],
   "source": [
    "# import the dataset\n",
    "from datasets import load_dataset\n",
    "\n",
    "dataset = load_dataset(\"FER-Universe/DiffusionFER\")"
   ]
  },
  {
   "cell_type": "code",
   "execution_count": null,
   "metadata": {},
   "outputs": [],
   "source": [
    "tensor_converter = transforms.Compose([\n",
    "    # dataset has varying sizes of images; resizing to a power of 2 to match ONNX model inputs\n",
    "    transforms.Resize(256),\n",
    "    transforms.ToTensor()\n",
    "])\n",
    "\n",
    "def convert_to_tensor(list_of_png, labels):\n",
    "    # return [tensor_converter(image) for image in list_of_png]\n",
    "    mega_tensor = None\n",
    "    count = 0\n",
    "    new_labels = []\n",
    "    # for the sake of the demo, skip through some of the examples for a smaller dataset\n",
    "    for i in range(0, len(list_of_png), 15):\n",
    "    # for i in range(3):\n",
    "        png = list_of_png[i]\n",
    "        if mega_tensor is None:\n",
    "            mega_tensor = tensor_converter(png).unsqueeze(0)\n",
    "        else:\n",
    "            mega_tensor = torch.vstack((mega_tensor, tensor_converter(png).unsqueeze(0)))\n",
    "\n",
    "        new_labels.append(labels[i])\n",
    "        print(mega_tensor.shape)\n",
    "    return mega_tensor, new_labels\n",
    "\n",
    "images, labels = convert_to_tensor(dataset['train']['image'], dataset['train']['label'])\n",
    "\n",
    "tensor_dataset = {\n",
    "    'image': images,\n",
    "    'label': labels\n",
    "    # concatenate the labels to be the same length if using for each loop when processing the images\n",
    "    # 'label': dataset['train']['label'][:images.shape[0]]\n",
    "}"
   ]
  },
  {
   "cell_type": "code",
   "execution_count": null,
   "metadata": {},
   "outputs": [],
   "source": [
    "def generate_json_dict(tensor_dict, keys_tensors, keys_1d):\n",
    "    \"\"\"\n",
    "    Takes in a dictionary where the values are tensors\n",
    "\n",
    "    Basically changes the 2d Python lists into two fields: a shape & a flattened list, for easier conversion to OnnxValues\n",
    "\n",
    "    Returns a dictionary\n",
    "    \"\"\"\n",
    "    json_dict = {}\n",
    "\n",
    "    for key_name in keys_tensors:\n",
    "        # add field for the shape of the tensor\n",
    "        json_dict[key_name + \"_shape\"] = list(tensor_dict[key_name].shape)\n",
    "        # flatten list\n",
    "        json_dict[key_name] = torch.flatten(tensor_dict[key_name]).tolist()\n",
    "\n",
    "    for key_name in keys_1d:\n",
    "        # add field for the shape of the tensor\n",
    "        json_dict[key_name + \"_shape\"] = [len(tensor_dict[key_name])]\n",
    "        json_dict[key_name] = tensor_dict[key_name]\n",
    "    \n",
    "    \n",
    "    return json_dict\n",
    "\n",
    "json_dict = generate_json_dict(tensor_dataset, ['image'], ['label'])"
   ]
  },
  {
   "cell_type": "code",
   "execution_count": null,
   "metadata": {},
   "outputs": [],
   "source": [
    "tensor_dataset['image'].shape"
   ]
  },
  {
   "cell_type": "code",
   "execution_count": null,
   "metadata": {},
   "outputs": [],
   "source": [
    "\n",
    "with open('mini_train.json', 'w') as json_file:\n",
    "    json.dump(json_dict, json_file)"
   ]
  }
 ],
 "metadata": {
  "kernelspec": {
   "display_name": "e2edemos-kernel",
   "language": "python",
   "name": "e2edemos-kernel"
  },
  "language_info": {
   "codemirror_mode": {
    "name": "ipython",
    "version": 3
   },
   "file_extension": ".py",
   "mimetype": "text/x-python",
   "name": "python",
   "nbconvert_exporter": "python",
   "pygments_lexer": "ipython3",
   "version": "3.9.16"
  }
 },
 "nbformat": 4,
 "nbformat_minor": 2
}
